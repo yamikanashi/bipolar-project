{
  "nbformat": 4,
  "nbformat_minor": 0,
  "metadata": {
    "colab": {
      "name": "Solutions_Quiz5_LokeshSangewar.ipynb",
      "provenance": [],
      "collapsed_sections": []
    },
    "kernelspec": {
      "name": "python3",
      "display_name": "Python 3"
    }
  },
  "cells": [
    {
      "cell_type": "markdown",
      "metadata": {
        "id": "k1y00BqjpyTP",
        "colab_type": "text"
      },
      "source": [
        "##1"
      ]
    },
    {
      "cell_type": "markdown",
      "metadata": {
        "id": "9YWHjWjtp9Bz",
        "colab_type": "text"
      },
      "source": [
        "###Q. Generate Random points\n",
        "Write a function that takes parameters $r_1$, $r_2$, $n$ and generates random points $(x_1, x_2)$ as follows - \n",
        "- $n$ random points that lie within a circle with center at $(0, 0)$ and radius $r_1$ $\\rightarrow$ These points belong to class ```'inner'```\n",
        "- $n$ random points that lie outside circle with center at $(0, 0)$ and radius $r_1$ but inside circle with center at $(0, 0)$ and radius $r_2$ $\\rightarrow$ These points belong to class ```'outer'```\n",
        "\n",
        "The function gen_random should return $X$, $Cls$ :\n",
        "- $X$ is a numpy array of shape $(2n, 2)$ which has the $2n$ random points generated as above\n",
        "- $Cls$ is a numpy array of shape $(2n,)$ which contains the value of the class corresponding to each point in $X$ (values will be either ```'inner'``` or ```'outer'```)"
      ]
    },
    {
      "cell_type": "code",
      "metadata": {
        "id": "7WWEUIetpA04",
        "colab_type": "code",
        "colab": {}
      },
      "source": [
        "def gen_random_points(r1, r2, n):\n",
        "  \"\"\"\n",
        "  Inputs:\n",
        "    r1 : float\n",
        "    r2 : float\n",
        "    n : int, number of points\n",
        "  Outputs:\n",
        "    X : numpy array, shape -> (2n, 2)\n",
        "    Cls : numpy array, shape -> (2n, )\n",
        "  \"\"\"\n",
        "  ### Write your code here\n",
        "  import numpy as np\n",
        "  import random\n",
        "  import math\n",
        "  X = np.array([])\n",
        "  for i in range(n):\n",
        "    a = random.random() * 2 * math.pi\n",
        "    ra = random.uniform(0, r1)\n",
        "    rb = random.uniform(r1, r2)\n",
        "    xa = ra * math.cos(a)\n",
        "    ya = ra * math.sin(a)\n",
        "    xb = rb * math.cos(a)\n",
        "    yb = rb * math.sin(a)\n",
        "    mytuple = [(xa, ya)]\n",
        "    joined = np.empty(len(mytuple), dtype=object)\n",
        "    joined[:] = mytuple\n",
        "    mytuple2 = [(xb, yb)]\n",
        "    joined2 = np.empty(len(mytuple2), dtype=object)\n",
        "    joined2[:] = mytuple2\n",
        "    X = np.append(X, joined)\n",
        "    X = np.append(X, joined2)\n",
        "  Cls = np.array([])\n",
        "  for i in range(X.shape[0]):\n",
        "    if ((X[i][0]**2) + (X[i][1]**2)) <= r1**2:\n",
        "      Cls = np.append(Cls, 'inner')\n",
        "    else:\n",
        "      Cls = np.append(Cls, 'outer')\n",
        "  return (X, Cls)"
      ],
      "execution_count": 0,
      "outputs": []
    },
    {
      "cell_type": "markdown",
      "metadata": {
        "id": "zQEovtnWvF1E",
        "colab_type": "text"
      },
      "source": [
        "##2"
      ]
    },
    {
      "cell_type": "markdown",
      "metadata": {
        "id": "RZnBaClDvJbp",
        "colab_type": "text"
      },
      "source": [
        "###Q. One-hot encode\n",
        "Write a function that takes a numpy array $Cls$ of shape $(n, )$ which contains class labels of $n$ samples of data and creates a numpy array, $Y_d$ of shape $(n, \\text{unique})$ containing 1-hot representations of the $n$ samples. Here $\\text{unique}$ is the number of unique classes in $Cls$. <br>\n",
        "The function should return two values - \n",
        "- $Y_d$ - numpy array of shape $(n, \\text{unique})$ with 1-hot representations\n",
        "- ```cls_order``` - numpy array of shape $(\\text{unique}, )$ which contains the labels of the classes in the order in which they occur in the 1-hot representation.\n"
      ]
    },
    {
      "cell_type": "code",
      "metadata": {
        "id": "WLB75bffvIne",
        "colab_type": "code",
        "colab": {}
      },
      "source": [
        "def one_hot_encode(Cls):\n",
        "  \"\"\"\n",
        "  Inputs:\n",
        "    Cls: numpy array, shape: (n, ) contains class labels of n data samples\n",
        "  Outputs:\n",
        "    Yd : numpy array of shape (n, unique)\n",
        "    cls_order: numpy array of shape(unique, )\n",
        "  \"\"\"\n",
        "  ### Write your code here\n",
        "  import numpy as np\n",
        "  from sklearn.preprocessing import OneHotEncoder\n",
        "  ohe = OneHotEncoder(sparse = False)\n",
        "  Yd = np.array([])\n",
        "  Yd = ohe.fit_transform(Cls.reshape(-1,1))\n",
        "  cls_order = np.unique(Cls)\n",
        "  unique = len(cls_order)\n",
        "  return (Yd, cls_order)"
      ],
      "execution_count": 0,
      "outputs": []
    },
    {
      "cell_type": "markdown",
      "metadata": {
        "id": "DFD0WNUbzYUo",
        "colab_type": "text"
      },
      "source": [
        "##3"
      ]
    },
    {
      "cell_type": "markdown",
      "metadata": {
        "id": "PTczqgGRzZ-K",
        "colab_type": "text"
      },
      "source": [
        "###Q. Softmax\n",
        "Write a function that takes a vector (numpy array of shape $(f,)$) - $(y_{in})$ and returns the result vector (numpy array of shape $(f,)$) - $(y_{out})$ of applying the softmax non-linearity to it. <br>\n",
        "$$\n",
        "y_{out}^{i} = \\frac{e^{y_{in}^{i}}}{\\sum_{i=1}^{f}e^{y_{in}^{i}}}\n",
        "$$ \n",
        "\n",
        "where $y^{i}$ refers to the $i^{th}$ component of vector $y$"
      ]
    },
    {
      "cell_type": "code",
      "metadata": {
        "id": "C6jF41px0EAD",
        "colab_type": "code",
        "colab": {}
      },
      "source": [
        "def softmax(y_in):\n",
        "  \"\"\"\n",
        "  Inputs:\n",
        "    y_in : numpy array of shape (f, ), input vector \n",
        "  Outputs:\n",
        "    y_out : numpy array of shape(f, ), output vector\n",
        "  \"\"\"\n",
        "  ### Write your code here\n",
        "  import math\n",
        "  import numpy as numpy\n",
        "  y_out = np.array([])\n",
        "  den = 0\n",
        "  for i in range(len(y_in)):\n",
        "    den += math.exp(y_in[i])\n",
        "  for i in range(len(y_in)):\n",
        "    y_out = np.append(y_out, (math.exp(y_in[i])/den) )\n",
        "  return y_out"
      ],
      "execution_count": 0,
      "outputs": []
    },
    {
      "cell_type": "markdown",
      "metadata": {
        "id": "bymfyiNKzoep",
        "colab_type": "text"
      },
      "source": [
        "##4"
      ]
    },
    {
      "cell_type": "markdown",
      "metadata": {
        "id": "NgvyBiO2zttQ",
        "colab_type": "text"
      },
      "source": [
        "###Q. Standardize\n",
        "Write a function that takes input dataset $X$ of shape $(n, f)$ and returns dataset $X_{stdz}$  after standardizing $X$ where\n",
        "$$\n",
        "  X_{stdz}^i = \\frac{X^i - \\mu(X)}{\\sigma(X)}\n",
        "$$\n",
        "where $\\mu(X)$ is the feature-wise mean of all samples in $X$ and $\\sigma(X)$ is feature-wise standard deviation of all samples in $X$"
      ]
    },
    {
      "cell_type": "code",
      "metadata": {
        "id": "3wLIHeN-3G1x",
        "colab_type": "code",
        "colab": {}
      },
      "source": [
        "def standardize(X):\n",
        "  \"\"\"\n",
        "  Inputs:\n",
        "    X: numpy array of shape (n, f)\n",
        "  Outputs:\n",
        "    X_stdz : numpy array of shape (n, f)\n",
        "  \"\"\"\n",
        "  ### Write your code here\n",
        "  import numpy as np\n",
        "  from sklearn.preprocessing import StandardScaler\n",
        "  scaler = StandardScaler()\n",
        "  X_stdz = scaler.fit_transform(X)\n",
        "  return X_stdz"
      ],
      "execution_count": 0,
      "outputs": []
    },
    {
      "cell_type": "markdown",
      "metadata": {
        "id": "Kazu6ZCf7xVU",
        "colab_type": "text"
      },
      "source": [
        "##5"
      ]
    },
    {
      "cell_type": "markdown",
      "metadata": {
        "id": "2oPGUWp37y63",
        "colab_type": "text"
      },
      "source": [
        "###Q. Normalize\n",
        "Write a function that takes input dataset $X$ of shape $(n, f)$ and returns dataset $X_{normd}$  after normalizing $X$ where\n",
        "$$\n",
        "  X_{normd}^i = \\frac{X^i - \\min(X)}{max(X) - min(X)}\n",
        "$$\n",
        "where $\\max(X)$ is the feature-wise maximum of all samples in $X$ and $min(X)$ is feature-wise minimum of all samples in $X$"
      ]
    },
    {
      "cell_type": "code",
      "metadata": {
        "id": "rC3cuVxU-vSp",
        "colab_type": "code",
        "colab": {}
      },
      "source": [
        "def normalize(X):\n",
        "  \"\"\"\n",
        "  Inputs:\n",
        "    X: numpy array of shape (n, f)\n",
        "  Outputs:\n",
        "    X_normd : numpy array of shape (n, f)\n",
        "  \"\"\"\n",
        "  ### Write your code here\n",
        "  import numpy as np\n",
        "  maxf = np.max(X, axis = 0)\n",
        "  minf = np.min(X, axis = 0)\n",
        "  max_dict = dict()\n",
        "  min_dict = dict()\n",
        "  X_normd = np.zeros(X.shape)\n",
        "  for i in range(len(maxf)):\n",
        "    max_dict.update({i : maxf[i]})\n",
        "    min_dict.update({i : minf[i]})\n",
        "  for i in range(X.shape[0]):\n",
        "    for j in range(X.shape[1]):\n",
        "      X_normd[i][j] = (X[i][j] - min_dict.get(j))/(max_dict.get(j) - min_dict.get(j))\n",
        "  return X_normd  "
      ],
      "execution_count": 0,
      "outputs": []
    }
  ]
}